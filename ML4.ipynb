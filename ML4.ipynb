{
 "cells": [
  {
   "cell_type": "code",
   "execution_count": 2,
   "id": "9fd2520f",
   "metadata": {},
   "outputs": [],
   "source": [
    "import pandas as pd\n",
    "import numpy as np\n",
    "import sympy as sym\n",
    "import matplotlib.pyplot as plt"
   ]
  },
  {
   "cell_type": "code",
   "execution_count": 3,
   "id": "b8d5163c",
   "metadata": {},
   "outputs": [],
   "source": [
    "def objective(x):\n",
    "    return (x+3)**2"
   ]
  },
  {
   "cell_type": "code",
   "execution_count": 4,
   "id": "b73b8e38",
   "metadata": {},
   "outputs": [],
   "source": [
    "def derivative(x):\n",
    "    return 2*(x+3)"
   ]
  },
  {
   "cell_type": "code",
   "execution_count": 10,
   "id": "13259742",
   "metadata": {},
   "outputs": [
    {
     "name": "stdout",
     "output_type": "stream",
     "text": [
      "2.0*(x + 3)**1.0\n"
     ]
    },
    {
     "data": {
      "text/latex": [
       "$\\displaystyle 10.0$"
      ],
      "text/plain": [
       "10.0000000000000"
      ]
     },
     "execution_count": 10,
     "metadata": {},
     "output_type": "execute_result"
    }
   ],
   "source": [
    "def gradient(aplha, start, max_iter):\n",
    "    x_list=list()\n",
    "    x=start\n",
    "    x_list.append(x)\n",
    "    for i in range(max_iter):\n",
    "        gradi=derivative(x)\n",
    "        x=x-(alpha*gradi)\n",
    "        x_list.append(x)\n",
    "    return x_list\n",
    "\n",
    "x=sym.symbols('x')\n",
    "expr=(x+3)**2.0\n",
    "grad=sym.Derivative(expr,x)\n",
    "print(\"{}\".format(grad.doit()))\n",
    "grad.doit().subs(x,2)"
   ]
  },
  {
   "cell_type": "code",
   "execution_count": 11,
   "id": "c8d6aa12",
   "metadata": {},
   "outputs": [],
   "source": [
    "alpha = 0.1\n",
    "start = 2\n",
    "max_iter=30\n",
    "x=sym.symbols('x')\n",
    "expr=(x+3)**2"
   ]
  },
  {
   "cell_type": "code",
   "execution_count": 12,
   "id": "6f412092",
   "metadata": {},
   "outputs": [
    {
     "data": {
      "text/plain": [
       "[<matplotlib.lines.Line2D at 0x235ef5db310>]"
      ]
     },
     "execution_count": 12,
     "metadata": {},
     "output_type": "execute_result"
    },
    {
     "data": {
      "image/png": "[encoded data removed]",
      "text/plain": [
       "<Figure size 432x288 with 1 Axes>"
      ]
     },
     "metadata": {
      "needs_background": "light"
     },
     "output_type": "display_data"
    }
   ],
   "source": [
    "x_cor = np.linspace(-15, 15, 100)\n",
    "plt.plot(x_cor, objective(x_cor))\n",
    "plt.plot(2, objective(2), 'ro')"
   ]
  },
  {
   "cell_type": "code",
   "execution_count": 13,
   "id": "c6f11710",
   "metadata": {},
   "outputs": [
    {
     "data": {
      "image/png": "[encoded data removed]",
      "text/plain": [
       "<Figure size 432x288 with 1 Axes>"
      ]
     },
     "metadata": {
      "needs_background": "light"
     },
     "output_type": "display_data"
    }
   ],
   "source": [
    "x=gradient(alpha,start,max_iter)\n",
    "x_cor=np.linspace(-5,5,100)\n",
    "plt.plot(x_cor,objective(x_cor))\n",
    "\n",
    "x_arr=np.array(x)\n",
    "plt.plot(x_arr,objective(x_arr),'.',color='red')\n",
    "plt.show()"
   ]
  },
  {
   "cell_type": "code",
   "execution_count": 17,
   "id": "9978675b",
   "metadata": {},
   "outputs": [],
   "source": [
    "cur_x = 2\n",
    "rate = 0.1\n",
    "precision = 0.000001\n",
    "previous_step_size = 1\n",
    "max_iters = 30\n",
    "iters = 0\n",
    "df = lambda x : 2 * (x+3)"
   ]
  },
  {
   "cell_type": "code",
   "execution_count": 18,
   "id": "b52c32c1",
   "metadata": {},
   "outputs": [
    {
     "name": "stdout",
     "output_type": "stream",
     "text": [
      "Local Minima occurs at:  -2.993810299803573\n"
     ]
    }
   ],
   "source": [
    "while previous_step_size > precision and iters < max_iters:\n",
    "    prev_x = cur_x\n",
    "    cur_x -= rate * df(prev_x)\n",
    "    previous_step_size = abs(prev_x - cur_x)\n",
    "    iters += 1\n",
    "print(\"Local Minima occurs at: \",cur_x)"
   ]
  },
  {
   "cell_type": "code",
   "execution_count": null,
   "id": "d1be044d",
   "metadata": {},
   "outputs": [],
   "source": []
  }
 ],
 "metadata": {
  "kernelspec": {
   "display_name": "Python 3 (ipykernel)",
   "language": "python",
   "name": "python3"
  },
  "language_info": {
   "codemirror_mode": {
    "name": "ipython",
    "version": 3
   },
   "file_extension": ".py",
   "mimetype": "text/x-python",
   "name": "python",
   "nbconvert_exporter": "python",
   "pygments_lexer": "ipython3",
   "version": "3.9.7"
  }
 },
 "nbformat": 4,
 "nbformat_minor": 5
}
