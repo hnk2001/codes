{
 "cells": [
  {
   "cell_type": "code",
   "execution_count": 1,
   "id": "5317d21d",
   "metadata": {},
   "outputs": [
    {
     "name": "stdout",
     "output_type": "stream",
     "text": [
      "f -> 0\n",
      "c -> 100\n",
      "d -> 101\n",
      "a -> 1100\n",
      "b -> 1101\n",
      "e -> 111\n"
     ]
    }
   ],
   "source": [
    "import heapq\n",
    "\n",
    "class node:\n",
    "    def __init__(self,freq,symbol,left=None,right=None):\n",
    "        self.freq = freq\n",
    "        self.symbol = symbol\n",
    "        self.left = left\n",
    "        self.right = right\n",
    "        self.huff= ''\n",
    "        \n",
    "    def __lt__(self,nxt):\n",
    "        return self.freq < nxt.freq\n",
    "    \n",
    "def printnodes(node, val=''):\n",
    "    newval = val + str(node.huff)\n",
    "    \n",
    "    if node.left:\n",
    "        printnodes(node.left, newval)\n",
    "    if node.right:\n",
    "        printnodes(node.right, newval)\n",
    "    if not node.left and not node.right:\n",
    "        print(\"{} -> {}\".format(node.symbol, newval))\n",
    "        \n",
    "if __name__=='__main__':\n",
    "    chars = ['a','b','c','d','e','f']\n",
    "    freq = [5,9,12,13,16,45]\n",
    "    nodes = []\n",
    "    \n",
    "    for i in range(len(chars)):\n",
    "        heapq.heappush(nodes, node(freq[i], chars[i]))\n",
    "        \n",
    "    while len(nodes) > 1:\n",
    "        left = heapq.heappop(nodes)\n",
    "        right = heapq.heappop(nodes)\n",
    "        \n",
    "        left.huff = 0\n",
    "        right.huff = 1\n",
    "        \n",
    "        newnode = node(left.freq + right.freq, left.symbol + right.symbol, left, right)\n",
    "        \n",
    "        heapq.heappush(nodes, newnode)\n",
    "        \n",
    "    printnodes(nodes[0])"
   ]
  },
  {
   "cell_type": "code",
   "execution_count": 6,
   "id": "c03055ed",
   "metadata": {},
   "outputs": [
    {
     "data": {
      "image/png": "[encoded data removed]",
      "text/plain": [
       "<Figure size 576x432 with 1 Axes>"
      ]
     },
     "metadata": {
      "needs_background": "light"
     },
     "output_type": "display_data"
    }
   ],
   "source": [
    "import heapq\n",
    "import matplotlib.pyplot as plt\n",
    "\n",
    "class Node:\n",
    "    def __init__(self, char, freq):\n",
    "        self.char = char\n",
    "        self.freq = freq\n",
    "        self.left = None\n",
    "        self.right = None\n",
    "\n",
    "    def __lt__(self, other):\n",
    "        return self.freq < other.freq\n",
    "\n",
    "def build_huffman_tree(chars, freq):\n",
    "    nodes = [Node(char, f) for char, f in zip(chars, freq)]\n",
    "    heapq.heapify(nodes)\n",
    "\n",
    "    while len(nodes) > 1:\n",
    "        left = heapq.heappop(nodes)\n",
    "        right = heapq.heappop(nodes)\n",
    "        new_node = Node(None, left.freq + right.freq)\n",
    "        new_node.left = left\n",
    "        new_node.right = right\n",
    "        heapq.heappush(nodes, new_node)\n",
    "\n",
    "    return nodes[0]  # The root of the Huffman tree\n",
    "\n",
    "def visualize_huffman_tree(node, ax, x, y, dx, dy, level=0):\n",
    "    if node is not None:\n",
    "        if node.char:\n",
    "            ax.text(x, y, f\"{node.char}:{node.freq}\", ha='center', va='center')\n",
    "        if node.left:\n",
    "            ax.plot([x, x - dx], [y, y - dy], 'k')\n",
    "            visualize_huffman_tree(node.left, ax, x - dx, y - dy, dx / 2, dy, level + 1)\n",
    "        if node.right:\n",
    "            ax.plot([x, x + dx], [y, y - dy], 'k')\n",
    "            visualize_huffman_tree(node.right, ax, x + dx, y - dy, dx / 2, dy, level + 1)\n",
    "\n",
    "chars = ['a', 'b', 'c', 'd', 'e', 'f']\n",
    "freq = [5, 9, 12, 13, 16, 45]\n",
    "\n",
    "root = build_huffman_tree(chars, freq)\n",
    "\n",
    "fig, ax = plt.subplots(figsize=(8, 6))\n",
    "visualize_huffman_tree(root, ax, x=0, y=0, dx=20, dy=20)\n",
    "\n",
    "ax.set_aspect('equal')\n",
    "ax.axis('off')\n",
    "plt.show()\n"
   ]
  },
  {
   "cell_type": "code",
   "execution_count": null,
   "id": "1630422e",
   "metadata": {},
   "outputs": [],
   "source": []
  }
 ],
 "metadata": {
  "kernelspec": {
   "display_name": "Python 3 (ipykernel)",
   "language": "python",
   "name": "python3"
  },
  "language_info": {
   "codemirror_mode": {
    "name": "ipython",
    "version": 3
   },
   "file_extension": ".py",
   "mimetype": "text/x-python",
   "name": "python",
   "nbconvert_exporter": "python",
   "pygments_lexer": "ipython3",
   "version": "3.9.7"
  }
 },
 "nbformat": 4,
 "nbformat_minor": 5
}
