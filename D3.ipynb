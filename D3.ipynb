{
 "cells": [
  {
   "cell_type": "code",
   "execution_count": 3,
   "id": "af802ff3",
   "metadata": {},
   "outputs": [
    {
     "name": "stdout",
     "output_type": "stream",
     "text": [
      "Maximum value obtained is :  240.0\n"
     ]
    }
   ],
   "source": [
    "class Item:\n",
    "    def __init__(self, profit, weight):\n",
    "        self.profit = profit\n",
    "        self.weight = weight\n",
    "        \n",
    "def fractionalknapsack(capacity, arr):\n",
    "    arr.sort(key = lambda x: (x.profit/x.weight), reverse = True)\n",
    "    max_value = 0.0\n",
    "    \n",
    "    for item in arr:\n",
    "        if item.weight <= capacity:\n",
    "            capacity -= item.weight\n",
    "            max_value += item.profit\n",
    "        else:\n",
    "            max_value += item.profit * capacity/item.weight\n",
    "            break\n",
    "            \n",
    "    return max_value\n",
    "\n",
    "if __name__ == \"__main__\":\n",
    "    capacity = 50\n",
    "    arr = [Item(60,10), Item(100,20), Item(120,30)]\n",
    "    max_val = fractionalknapsack(capacity, arr)\n",
    "    print(\"Maximum value obtained is : \",max_val)\n"
   ]
  },
  {
   "cell_type": "code",
   "execution_count": null,
   "id": "211eb4a2",
   "metadata": {},
   "outputs": [],
   "source": []
  }
 ],
 "metadata": {
  "kernelspec": {
   "display_name": "Python 3 (ipykernel)",
   "language": "python",
   "name": "python3"
  },
  "language_info": {
   "codemirror_mode": {
    "name": "ipython",
    "version": 3
   },
   "file_extension": ".py",
   "mimetype": "text/x-python",
   "name": "python",
   "nbconvert_exporter": "python",
   "pygments_lexer": "ipython3",
   "version": "3.9.7"
  }
 },
 "nbformat": 4,
 "nbformat_minor": 5
}
