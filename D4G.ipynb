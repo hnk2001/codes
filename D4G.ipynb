{
 "cells": [
  {
   "cell_type": "code",
   "execution_count": 1,
   "id": "9fa77f45",
   "metadata": {},
   "outputs": [
    {
     "name": "stdout",
     "output_type": "stream",
     "text": [
      "Maximum value obtained is:  350\n"
     ]
    }
   ],
   "source": [
    "def solve_knapsack():\n",
    "    profit=[50,100,150,200] #value array\n",
    "    weight=[8,16,32,40] # Weight array\n",
    "    capacity=64\n",
    "    n=len(profit) - 1\n",
    "    def knapsack(capacity,n): # (Remaining Weight, Number of items checked)\n",
    "        #base case\n",
    "        if n<0 or capacity<=0:\n",
    "            return 0\n",
    "        \n",
    "        #Higher weight than available\n",
    "        if weight[n]>capacity:\n",
    "            return knapsack(capacity, n-1)\n",
    "        \n",
    "        else:\n",
    "            return max(profit[n] + knapsack(capacity-weight[n],n-1),knapsack(capacity,n-1))\n",
    "            # max(including , not including)\n",
    "    print(\"Maximum value obtained is: \",knapsack(capacity,n))\n",
    "\n",
    "if __name__==\"__main__\":\n",
    "    solve_knapsack()"
   ]
  },
  {
   "cell_type": "code",
   "execution_count": null,
   "id": "ff53bc0b",
   "metadata": {},
   "outputs": [],
   "source": []
  }
 ],
 "metadata": {
  "kernelspec": {
   "display_name": "Python 3 (ipykernel)",
   "language": "python",
   "name": "python3"
  },
  "language_info": {
   "codemirror_mode": {
    "name": "ipython",
    "version": 3
   },
   "file_extension": ".py",
   "mimetype": "text/x-python",
   "name": "python",
   "nbconvert_exporter": "python",
   "pygments_lexer": "ipython3",
   "version": "3.9.7"
  }
 },
 "nbformat": 4,
 "nbformat_minor": 5
}
