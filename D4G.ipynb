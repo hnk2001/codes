{
 "cells": [
  {
   "cell_type": "code",
   "execution_count": null,
   "id": "9fa77f45",
   "metadata": {},
   "outputs": [],
   "source": [
    "def solve_knapsack():\n",
    "    profit = [50, 100, 150, 200]\n",
    "    weight = [8, 16, 32, 40]\n",
    "    capacity = 64\n",
    "    n = len(profit) - 1\n",
    "    \n",
    "    def knapsack(capacity, n):\n",
    "        if n<0 or capacity<=0:\n",
    "            return 0\n",
    "        if weight[n] > capacity:\n",
    "            return knapsack(capacity, n-1)\n",
    "        else:\n",
    "            return max(profit[n] + knapsack(capacity-weight[n],n-1),knapsack)\n",
    "    "
   ]
  }
 ],
 "metadata": {
  "kernelspec": {
   "display_name": "Python 3 (ipykernel)",
   "language": "python",
   "name": "python3"
  },
  "language_info": {
   "codemirror_mode": {
    "name": "ipython",
    "version": 3
   },
   "file_extension": ".py",
   "mimetype": "text/x-python",
   "name": "python",
   "nbconvert_exporter": "python",
   "pygments_lexer": "ipython3",
   "version": "3.9.7"
  }
 },
 "nbformat": 4,
 "nbformat_minor": 5
}
