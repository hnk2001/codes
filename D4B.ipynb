{
 "cells": [
  {
   "cell_type": "code",
   "execution_count": 2,
   "id": "a4850107",
   "metadata": {},
   "outputs": [
    {
     "name": "stdout",
     "output_type": "stream",
     "text": [
      "Maximum value in the knapsack: 220\n"
     ]
    }
   ],
   "source": [
    "class Item:\n",
    "    def __init__(self, weight, profit):\n",
    "        self.weight = weight\n",
    "        self.profit = profit\n",
    "\n",
    "def knapsack_bb(items, capacity):\n",
    "    items.sort(key=lambda x: x.profit / x.weight, reverse=True)\n",
    "    max_value = 0\n",
    "\n",
    "    def bound(node, n, weight, profit):\n",
    "        if weight > capacity:\n",
    "            return 0\n",
    "\n",
    "        bound_value = profit\n",
    "\n",
    "        for i in range(node, n):\n",
    "            if weight + items[i].weight <= capacity:\n",
    "                weight += items[i].weight\n",
    "                bound_value += items[i].profit\n",
    "            else:\n",
    "                bound_value += (capacity - weight) * (items[i].profit / items[i].weight)\n",
    "                break\n",
    "\n",
    "        return bound_value\n",
    "\n",
    "    def knapsack(node, weight, profit):\n",
    "        nonlocal max_value\n",
    "\n",
    "        if weight <= capacity and profit > max_value:\n",
    "            max_value = profit\n",
    "\n",
    "        if bound(node, len(items), weight, profit) > max_value:\n",
    "            knapsack(node + 1, weight + items[node].weight, profit + items[node].profit)\n",
    "\n",
    "        if bound(node, len(items), weight, profit) > max_value:\n",
    "            knapsack(node + 1, weight, profit)\n",
    "\n",
    "    knapsack(0, 0, 0)\n",
    "    return max_value\n",
    "\n",
    "if __name__ == '__main__':\n",
    "    items = [Item(10, 60), Item(20, 100), Item(30, 120)]\n",
    "    capacity = 50\n",
    "    max_value = knapsack_bb(items, capacity)\n",
    "    print(f\"Maximum value in the knapsack: {max_value}\")\n"
   ]
  },
  {
   "cell_type": "code",
   "execution_count": null,
   "id": "717d3d5d",
   "metadata": {},
   "outputs": [],
   "source": []
  }
 ],
 "metadata": {
  "kernelspec": {
   "display_name": "Python 3 (ipykernel)",
   "language": "python",
   "name": "python3"
  },
  "language_info": {
   "codemirror_mode": {
    "name": "ipython",
    "version": 3
   },
   "file_extension": ".py",
   "mimetype": "text/x-python",
   "name": "python",
   "nbconvert_exporter": "python",
   "pygments_lexer": "ipython3",
   "version": "3.9.7"
  }
 },
 "nbformat": 4,
 "nbformat_minor": 5
}
